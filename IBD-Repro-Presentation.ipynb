{
 "cells": [
  {
   "cell_type": "markdown",
   "metadata": {},
   "source": [
    "# IBD Network Models Reproducibility"
   ]
  },
  {
   "cell_type": "markdown",
   "metadata": {},
   "source": [
    "Code and Data \"available\" on Synapse"
   ]
  },
  {
   "cell_type": "markdown",
   "metadata": {},
   "source": [
    "### Start from raw data\n",
    "Not enough time to do this.\n",
    "Also, we couldn't find the aligner they used"
   ]
  },
  {
   "cell_type": "markdown",
   "metadata": {},
   "source": [
    "### Sort through Code\n"
   ]
  },
  {
   "cell_type": "markdown",
   "metadata": {},
   "source": [
    "### Trying to Reproduce Figure 2\n",
    "Figure two looked simple enough to try to reproduce\n",
    "We have two supplementary tables with the normalized data. We know the authors use an R package called NetWeaver to make the circular heatmap. We tried to replicate it using NetWeaver, but it was a little difficult. Instead, we used a more popular method ggplot2. Maybe if we spent more time, we would be able to make it a little better."
   ]
  }
 ],
 "metadata": {
  "kernelspec": {
   "display_name": "Python 3",
   "language": "python",
   "name": "python3"
  },
  "language_info": {
   "codemirror_mode": {
    "name": "ipython",
    "version": 3
   },
   "file_extension": ".py",
   "mimetype": "text/x-python",
   "name": "python",
   "nbconvert_exporter": "python",
   "pygments_lexer": "ipython3",
   "version": "3.7.3"
  }
 },
 "nbformat": 4,
 "nbformat_minor": 2
}
