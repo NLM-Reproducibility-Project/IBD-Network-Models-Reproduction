{
 "cells": [
  {
   "cell_type": "markdown",
   "metadata": {},
   "source": [
    "# IBD Network Models Reproducibility"
   ]
  },
  {
   "cell_type": "markdown",
   "metadata": {},
   "source": [
    "Code and Data \"available\" on Synapse"
   ]
  },
  {
   "cell_type": "markdown",
   "metadata": {},
   "source": [
    "### Plan A: Start from raw data\n",
    "We could not complete this in three days.\n",
    "\n",
    "We couldn't find the aligner they used: \"Short reads in fastQ format were processed using RAPiD, which is a RNA-seq analysis framework developed and maintained by the Technology Development group at the Icahn Institute for Genomics and Multi-scale Biology.\"\n",
    "\n",
    "So we tried to start in the middle with their code and available data."
   ]
  },
  {
   "cell_type": "markdown",
   "metadata": {},
   "source": [
    "### Sorting through Code\n",
    "We spent a lot of time trying to figure out where we could start. At which step do we have the complete set of data? \n",
    "\n",
    "1. Visualized disorganized directory\n",
    "\n",
    "2. Searched scripts for inputs and outputs for data inventory"
   ]
  },
  {
   "cell_type": "markdown",
   "metadata": {},
   "source": [
    "### Run one step of Code\n",
    "\n",
    "Most code referred to data that was unavailable. We were able to run a few scripts, but they did not have output that we could identify as usable. Output did not compare to supplementary figures."
   ]
  },
  {
   "cell_type": "markdown",
   "metadata": {},
   "source": [
    "### Reproduce Figure 2\n",
    "Figure 2 looked simple enough to try to reproduce.\n",
    "We have two supplementary tables (15 & 16) with the normalized data. We know the authors use an R package called NetWeaver to make the circular heatmap. We tried to replicate it using NetWeaver, but it was a little difficult. Instead, we used a more popular method ggplot2. Maybe if we spent more time, we would be able to make it a little better.\n",
    "\n"
   ]
  },
  {
   "cell_type": "markdown",
   "metadata": {},
   "source": []
  }
 ],
 "metadata": {
  "kernelspec": {
   "display_name": "Python 3",
   "language": "python",
   "name": "python3"
  },
  "language_info": {
   "codemirror_mode": {
    "name": "ipython",
    "version": 3
   },
   "file_extension": ".py",
   "mimetype": "text/x-python",
   "name": "python",
   "nbconvert_exporter": "python",
   "pygments_lexer": "ipython3",
   "version": "3.6.8"
  }
 },
 "nbformat": 4,
 "nbformat_minor": 2
}
