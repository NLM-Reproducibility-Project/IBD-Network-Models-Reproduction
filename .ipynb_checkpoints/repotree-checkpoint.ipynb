{
 "cells": [
  {
   "cell_type": "code",
   "execution_count": 1,
   "metadata": {},
   "outputs": [
    {
     "name": "stdout",
     "output_type": "stream",
     "text": [
      "DirectoryNodes.csv               SupplTable15.csv\r\n",
      "DirectoryNodes_EEM-wPaths.ipynb  SupplTable16.csv\r\n",
      "DirectoryNodes_wPaths.csv        example.csv\r\n",
      "Fig2_original.pdf                get_in_and_out.ipynb\r\n",
      "Fig2_repro.pdf                   netweaver.Rmd\r\n",
      "IBD-Repro-Presentation.ipynb     repotree.ipynb\r\n",
      "LICENSE                          repotree.py\r\n",
      "NodeTypes_wPaths.csv             requirements.txt\r\n",
      "PAPER_DATA-rt-ig.html            tree03.html\r\n",
      "README.md                        tree04.html\r\n"
     ]
    }
   ],
   "source": [
    "ls"
   ]
  },
  {
   "cell_type": "code",
   "execution_count": 2,
   "metadata": {},
   "outputs": [
    {
     "data": {
      "text/html": [
       "<div>\n",
       "<style scoped>\n",
       "    .dataframe tbody tr th:only-of-type {\n",
       "        vertical-align: middle;\n",
       "    }\n",
       "\n",
       "    .dataframe tbody tr th {\n",
       "        vertical-align: top;\n",
       "    }\n",
       "\n",
       "    .dataframe thead th {\n",
       "        text-align: right;\n",
       "    }\n",
       "</style>\n",
       "<table border=\"1\" class=\"dataframe\">\n",
       "  <thead>\n",
       "    <tr style=\"text-align: right;\">\n",
       "      <th></th>\n",
       "      <th>Path</th>\n",
       "      <th>Name</th>\n",
       "      <th>Size</th>\n",
       "      <th>Type</th>\n",
       "    </tr>\n",
       "  </thead>\n",
       "  <tbody>\n",
       "    <tr>\n",
       "      <th>0</th>\n",
       "      <td>PAPER_DATA</td>\n",
       "      <td>PAPER_DATA</td>\n",
       "      <td>NaN</td>\n",
       "      <td>NaN</td>\n",
       "    </tr>\n",
       "    <tr>\n",
       "      <th>1</th>\n",
       "      <td>PAPER_DATA/Gene.expression.by.SNP.genotype</td>\n",
       "      <td>Gene.expression.by.SNP.genotype</td>\n",
       "      <td>NaN</td>\n",
       "      <td>NaN</td>\n",
       "    </tr>\n",
       "    <tr>\n",
       "      <th>2</th>\n",
       "      <td>PAPER_DATA/Gene.expression.by.SNP.genotype/IBD...</td>\n",
       "      <td>IBD.GPS_SNP_HLA.subtypes_coefficients_with_ris...</td>\n",
       "      <td>27658.0</td>\n",
       "      <td>.xlsx</td>\n",
       "    </tr>\n",
       "    <tr>\n",
       "      <th>3</th>\n",
       "      <td>PAPER_DATA/Gene.expression.by.SNP.genotype/sco...</td>\n",
       "      <td>score_density</td>\n",
       "      <td>227677.0</td>\n",
       "      <td>.png</td>\n",
       "    </tr>\n",
       "    <tr>\n",
       "      <th>4</th>\n",
       "      <td>PAPER_DATA/Gene.expression.by.SNP.genotype/CER...</td>\n",
       "      <td>CERTIFI</td>\n",
       "      <td>NaN</td>\n",
       "      <td>NaN</td>\n",
       "    </tr>\n",
       "  </tbody>\n",
       "</table>\n",
       "</div>"
      ],
      "text/plain": [
       "                                                Path  \\\n",
       "0                                         PAPER_DATA   \n",
       "1         PAPER_DATA/Gene.expression.by.SNP.genotype   \n",
       "2  PAPER_DATA/Gene.expression.by.SNP.genotype/IBD...   \n",
       "3  PAPER_DATA/Gene.expression.by.SNP.genotype/sco...   \n",
       "4  PAPER_DATA/Gene.expression.by.SNP.genotype/CER...   \n",
       "\n",
       "                                                Name      Size   Type  \n",
       "0                                         PAPER_DATA       NaN    NaN  \n",
       "1                    Gene.expression.by.SNP.genotype       NaN    NaN  \n",
       "2  IBD.GPS_SNP_HLA.subtypes_coefficients_with_ris...   27658.0  .xlsx  \n",
       "3                                      score_density  227677.0   .png  \n",
       "4                                            CERTIFI       NaN    NaN  "
      ]
     },
     "execution_count": 2,
     "metadata": {},
     "output_type": "execute_result"
    }
   ],
   "source": [
    "import pandas as pd\n",
    "import numpy as np\n",
    "df = pd.read_csv('NodeTypes_wPaths.csv')\n",
    "df.head()"
   ]
  },
  {
   "cell_type": "code",
   "execution_count": 3,
   "metadata": {},
   "outputs": [
    {
     "data": {
      "text/plain": [
       "Index(['Path', 'Name', 'Size', 'Type'], dtype='object')"
      ]
     },
     "execution_count": 3,
     "metadata": {},
     "output_type": "execute_result"
    }
   ],
   "source": [
    "df.columns"
   ]
  },
  {
   "cell_type": "code",
   "execution_count": 5,
   "metadata": {},
   "outputs": [
    {
     "data": {
      "text/plain": [
       "array([nan, '.xlsx', '.png', '.xls', '.cys', '.txt', '.fam', '.bed',\n",
       "       '.bim', '.RData', '.R', '.gz', '.pl', '.c', '.tab', '.ann',\n",
       "       '.Rdata', '.tsv'], dtype=object)"
      ]
     },
     "execution_count": 5,
     "metadata": {},
     "output_type": "execute_result"
    }
   ],
   "source": [
    "df['Type'].unique()"
   ]
  },
  {
   "cell_type": "code",
   "execution_count": 4,
   "metadata": {},
   "outputs": [],
   "source": [
    "run repotree.py"
   ]
  }
 ],
 "metadata": {
  "kernelspec": {
   "display_name": "Python 3",
   "language": "python",
   "name": "python3"
  },
  "language_info": {
   "codemirror_mode": {
    "name": "ipython",
    "version": 3
   },
   "file_extension": ".py",
   "mimetype": "text/x-python",
   "name": "python",
   "nbconvert_exporter": "python",
   "pygments_lexer": "ipython3",
   "version": "3.6.8"
  }
 },
 "nbformat": 4,
 "nbformat_minor": 2
}
